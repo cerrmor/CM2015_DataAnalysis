{
 "cells": [
  {
   "cell_type": "markdown",
   "metadata": {},
   "source": [
    "# Insights Gained from Analysis of Premier League Data\n",
    "### Programming with Data Midterm Report\n",
    "##### By: Garrison Jabs"
   ]
  },
  {
   "cell_type": "markdown",
   "metadata": {},
   "source": [
    "## Introduction\n",
    "<p>Since its inception on the 20th of February 1992, the English Premier League has become one of the most watched sport leagues in the world. On broadcast the league reaches an approximate audience size of 4.7 billion people. The league draws this attention by being almost impossible to predict. Of 7 teams to take home the title, three have been considered not even in the running to win, making them a complete upset. In this project, I am going to investigate a few instances of league seasons, to see if some of the age-old beliefs that have sprung up in soccer are true. For instance, that goals scored in the first half of the game are more valuable. </p>\n",
    "<p>The first thing to do is acquire some data about the Premier League. I first attempted to gain access to a web API, hosting stats on the League. However, as most API data is locked behind a pay wall. I decided to scrape some useful data from <a href=\"https://www.football-data.co.uk/englandm.php\">https://www.football-data.co.uk/englandm.php\"</a> which hosts freely available data from 1993 to the current year in downloadable CSV documents. </p>\n"
   ]
  },
  {
   "cell_type": "code",
   "execution_count": 1,
   "metadata": {},
   "outputs": [],
   "source": [
    "# importing \"BeautifulSoup\" a web scraping library and \"requests\" a server\n",
    "# access library\n",
    "\n",
    "from bs4 import BeautifulSoup\n",
    "import requests"
   ]
  },
  {
   "cell_type": "markdown",
   "metadata": {},
   "source": [
    "<p>To access the data behind the webpage with BeautifulSoup, much like with a web browser, we need to use the web address. I created these two variables to make scripting easier down the line. </p>"
   ]
  },
  {
   "cell_type": "code",
   "execution_count": 2,
   "metadata": {},
   "outputs": [],
   "source": [
    "# link to British football league data\n",
    "url =\"https://www.football-data.co.uk/englandm.php\"\n",
    "\n",
    "# link for accessing the csv files\n",
    "url2 = \"https://www.football-data.co.uk/\""
   ]
  },
  {
   "cell_type": "markdown",
   "metadata": {},
   "source": [
    "<p>The Requests library makes accessing server-side data much easier. It handles all query’s automatically, and makes checking response status of the request easy. </p>"
   ]
  },
  {
   "cell_type": "code",
   "execution_count": 3,
   "metadata": {},
   "outputs": [],
   "source": [
    "# server request to obtain the football-data.co.uk webpage\n",
    "page = requests.get(url)\n",
    "\n",
    "#check to see the server response is good. A response of 200 is what we want.\n",
    "if page.status_code == 200:\n",
    "    # parses the html markup on the page with pythons built in parser\n",
    "    soup = BeautifulSoup(page.content, 'html.parser')"
   ]
  },
  {
   "cell_type": "markdown",
   "metadata": {},
   "source": [
    "<p>After scraping the webpage for the HTML document, we need to filter the data down to just the links that lead to the desired CSV documents</p>"
   ]
  },
  {
   "cell_type": "code",
   "execution_count": 4,
   "metadata": {},
   "outputs": [],
   "source": [
    "# Empty list for storing the page data that we are looking for \n",
    "data = []\n",
    "\n",
    "# Finds and builds a list of all html objects with the <a> tag\n",
    "allLinks = soup.find_all('a')\n",
    "\n",
    "for link in allLinks:\n",
    "    # grabs the href attribute from the all Links list\n",
    "    sportsData = link.attrs['href']\n",
    "    # filters just the premier league \n",
    "    if sportsData[13:19] == \"E0.csv\":\n",
    "        # builds the web address to the data file\n",
    "        data.append(url2 + sportsData)"
   ]
  },
  {
   "cell_type": "markdown",
   "metadata": {},
   "source": [
    "<p>Now that the list of all the links has been built, we can read the CSV files into a panda data frame for analysis. </p>"
   ]
  },
  {
   "cell_type": "code",
   "execution_count": 5,
   "metadata": {},
   "outputs": [],
   "source": [
    "# Importing pandas and numpy to process the data\n",
    "import pandas as pd\n",
    "import numpy as np\n",
    "\n",
    "# Importing matplotlib for data visualisation \n",
    "import matplotlib.pyplot as plt\n",
    "\n",
    "# Functions created by me, stored in separate file for the purpose of simplifying code\n",
    "import dataAnalysis as da"
   ]
  },
  {
   "cell_type": "markdown",
   "metadata": {},
   "source": [
    "<p>The CSV data columns were labeled in ways that were not easy to read initially. However, a legend was included on the website at this link. <a href=\"https://www.football-data.co.uk/notes.txt\">https://www.football-data.co.uk/notes.txt</a> that clarified the naming scheme.</p>"
   ]
  },
  {
   "cell_type": "code",
   "execution_count": 6,
   "metadata": {
    "scrolled": true
   },
   "outputs": [],
   "source": [
    "# Reading the CSV files for the premier league seasons 2015 - 2019\n",
    "\n",
    "s2019 = pd.read_csv(data[1], sep=\",\", index_col=0)\n",
    "s2018 = pd.read_csv(data[2], sep=\",\", index_col=0)\n",
    "s2017 = pd.read_csv(data[3], sep=\",\", index_col=0)\n",
    "s2016 = pd.read_csv(data[4], sep=\",\", index_col=0)\n",
    "s2015 = pd.read_csv(data[5], sep=\",\", index_col=0)\n"
   ]
  },
  {
   "cell_type": "markdown",
   "metadata": {},
   "source": [
    "<p>The date was missing from two of the seasons data, but the date range was known, so I added a generic date for analysis reasons.</p>"
   ]
  },
  {
   "cell_type": "code",
   "execution_count": 7,
   "metadata": {},
   "outputs": [],
   "source": [
    "# fills the date column with the date string\n",
    "\n",
    "s2016['Date'] = '2016/2017'\n",
    "s2015['Date'] = '2015/2016'"
   ]
  },
  {
   "cell_type": "code",
   "execution_count": 8,
   "metadata": {},
   "outputs": [],
   "source": [
    "# Concatenating all 5 seasons for later analysis\n",
    "\n",
    "allData = pd.concat([s2015, s2016, s2017, s2018, s2019])"
   ]
  },
  {
   "cell_type": "code",
   "execution_count": 9,
   "metadata": {},
   "outputs": [
    {
     "data": {
      "text/html": [
       "<div>\n",
       "<style scoped>\n",
       "    .dataframe tbody tr th:only-of-type {\n",
       "        vertical-align: middle;\n",
       "    }\n",
       "\n",
       "    .dataframe tbody tr th {\n",
       "        vertical-align: top;\n",
       "    }\n",
       "\n",
       "    .dataframe thead th {\n",
       "        text-align: right;\n",
       "    }\n",
       "</style>\n",
       "<table border=\"1\" class=\"dataframe\">\n",
       "  <thead>\n",
       "    <tr style=\"text-align: right;\">\n",
       "      <th></th>\n",
       "      <th>Date</th>\n",
       "      <th>HomeTeam</th>\n",
       "      <th>AwayTeam</th>\n",
       "      <th>FTHG</th>\n",
       "      <th>FTAG</th>\n",
       "      <th>FTR</th>\n",
       "      <th>HTHG</th>\n",
       "      <th>HTAG</th>\n",
       "      <th>HTR</th>\n",
       "      <th>Referee</th>\n",
       "      <th>...</th>\n",
       "      <th>BbAv&lt;2.5</th>\n",
       "      <th>BbAH</th>\n",
       "      <th>BbAHh</th>\n",
       "      <th>BbMxAHH</th>\n",
       "      <th>BbAvAHH</th>\n",
       "      <th>BbMxAHA</th>\n",
       "      <th>BbAvAHA</th>\n",
       "      <th>PSCH</th>\n",
       "      <th>PSCD</th>\n",
       "      <th>PSCA</th>\n",
       "    </tr>\n",
       "    <tr>\n",
       "      <th>Div</th>\n",
       "      <th></th>\n",
       "      <th></th>\n",
       "      <th></th>\n",
       "      <th></th>\n",
       "      <th></th>\n",
       "      <th></th>\n",
       "      <th></th>\n",
       "      <th></th>\n",
       "      <th></th>\n",
       "      <th></th>\n",
       "      <th></th>\n",
       "      <th></th>\n",
       "      <th></th>\n",
       "      <th></th>\n",
       "      <th></th>\n",
       "      <th></th>\n",
       "      <th></th>\n",
       "      <th></th>\n",
       "      <th></th>\n",
       "      <th></th>\n",
       "      <th></th>\n",
       "    </tr>\n",
       "  </thead>\n",
       "  <tbody>\n",
       "    <tr>\n",
       "      <th>E0</th>\n",
       "      <td>2015/2016</td>\n",
       "      <td>Bournemouth</td>\n",
       "      <td>Aston Villa</td>\n",
       "      <td>0</td>\n",
       "      <td>1</td>\n",
       "      <td>A</td>\n",
       "      <td>0</td>\n",
       "      <td>0</td>\n",
       "      <td>D</td>\n",
       "      <td>M Clattenburg</td>\n",
       "      <td>...</td>\n",
       "      <td>1.79</td>\n",
       "      <td>26</td>\n",
       "      <td>-0.5</td>\n",
       "      <td>1.98</td>\n",
       "      <td>1.93</td>\n",
       "      <td>1.99</td>\n",
       "      <td>1.92</td>\n",
       "      <td>1.82</td>\n",
       "      <td>3.88</td>\n",
       "      <td>4.70</td>\n",
       "    </tr>\n",
       "    <tr>\n",
       "      <th>E0</th>\n",
       "      <td>2015/2016</td>\n",
       "      <td>Chelsea</td>\n",
       "      <td>Swansea</td>\n",
       "      <td>2</td>\n",
       "      <td>2</td>\n",
       "      <td>D</td>\n",
       "      <td>2</td>\n",
       "      <td>1</td>\n",
       "      <td>H</td>\n",
       "      <td>M Oliver</td>\n",
       "      <td>...</td>\n",
       "      <td>1.99</td>\n",
       "      <td>27</td>\n",
       "      <td>-1.5</td>\n",
       "      <td>2.24</td>\n",
       "      <td>2.16</td>\n",
       "      <td>1.80</td>\n",
       "      <td>1.73</td>\n",
       "      <td>1.37</td>\n",
       "      <td>5.04</td>\n",
       "      <td>10.88</td>\n",
       "    </tr>\n",
       "    <tr>\n",
       "      <th>E0</th>\n",
       "      <td>2015/2016</td>\n",
       "      <td>Everton</td>\n",
       "      <td>Watford</td>\n",
       "      <td>2</td>\n",
       "      <td>2</td>\n",
       "      <td>D</td>\n",
       "      <td>0</td>\n",
       "      <td>1</td>\n",
       "      <td>A</td>\n",
       "      <td>M Jones</td>\n",
       "      <td>...</td>\n",
       "      <td>1.96</td>\n",
       "      <td>26</td>\n",
       "      <td>-1.0</td>\n",
       "      <td>2.28</td>\n",
       "      <td>2.18</td>\n",
       "      <td>1.76</td>\n",
       "      <td>1.71</td>\n",
       "      <td>1.75</td>\n",
       "      <td>3.76</td>\n",
       "      <td>5.44</td>\n",
       "    </tr>\n",
       "    <tr>\n",
       "      <th>E0</th>\n",
       "      <td>2015/2016</td>\n",
       "      <td>Leicester</td>\n",
       "      <td>Sunderland</td>\n",
       "      <td>4</td>\n",
       "      <td>2</td>\n",
       "      <td>H</td>\n",
       "      <td>3</td>\n",
       "      <td>0</td>\n",
       "      <td>H</td>\n",
       "      <td>L Mason</td>\n",
       "      <td>...</td>\n",
       "      <td>1.67</td>\n",
       "      <td>26</td>\n",
       "      <td>-0.5</td>\n",
       "      <td>2.00</td>\n",
       "      <td>1.95</td>\n",
       "      <td>1.96</td>\n",
       "      <td>1.90</td>\n",
       "      <td>1.79</td>\n",
       "      <td>3.74</td>\n",
       "      <td>5.10</td>\n",
       "    </tr>\n",
       "    <tr>\n",
       "      <th>E0</th>\n",
       "      <td>2015/2016</td>\n",
       "      <td>Man United</td>\n",
       "      <td>Tottenham</td>\n",
       "      <td>1</td>\n",
       "      <td>0</td>\n",
       "      <td>H</td>\n",
       "      <td>1</td>\n",
       "      <td>0</td>\n",
       "      <td>H</td>\n",
       "      <td>J Moss</td>\n",
       "      <td>...</td>\n",
       "      <td>2.01</td>\n",
       "      <td>26</td>\n",
       "      <td>-1.0</td>\n",
       "      <td>2.20</td>\n",
       "      <td>2.09</td>\n",
       "      <td>1.82</td>\n",
       "      <td>1.78</td>\n",
       "      <td>1.64</td>\n",
       "      <td>4.07</td>\n",
       "      <td>6.04</td>\n",
       "    </tr>\n",
       "  </tbody>\n",
       "</table>\n",
       "<p>5 rows × 64 columns</p>\n",
       "</div>"
      ],
      "text/plain": [
       "          Date     HomeTeam     AwayTeam  FTHG  FTAG FTR  HTHG  HTAG HTR  \\\n",
       "Div                                                                        \n",
       "E0   2015/2016  Bournemouth  Aston Villa     0     1   A     0     0   D   \n",
       "E0   2015/2016      Chelsea      Swansea     2     2   D     2     1   H   \n",
       "E0   2015/2016      Everton      Watford     2     2   D     0     1   A   \n",
       "E0   2015/2016    Leicester   Sunderland     4     2   H     3     0   H   \n",
       "E0   2015/2016   Man United    Tottenham     1     0   H     1     0   H   \n",
       "\n",
       "           Referee  ...  BbAv<2.5  BbAH  BbAHh  BbMxAHH  BbAvAHH  BbMxAHA  \\\n",
       "Div                 ...                                                     \n",
       "E0   M Clattenburg  ...      1.79    26   -0.5     1.98     1.93     1.99   \n",
       "E0        M Oliver  ...      1.99    27   -1.5     2.24     2.16     1.80   \n",
       "E0         M Jones  ...      1.96    26   -1.0     2.28     2.18     1.76   \n",
       "E0         L Mason  ...      1.67    26   -0.5     2.00     1.95     1.96   \n",
       "E0          J Moss  ...      2.01    26   -1.0     2.20     2.09     1.82   \n",
       "\n",
       "     BbAvAHA  PSCH  PSCD   PSCA  \n",
       "Div                              \n",
       "E0      1.92  1.82  3.88   4.70  \n",
       "E0      1.73  1.37  5.04  10.88  \n",
       "E0      1.71  1.75  3.76   5.44  \n",
       "E0      1.90  1.79  3.74   5.10  \n",
       "E0      1.78  1.64  4.07   6.04  \n",
       "\n",
       "[5 rows x 64 columns]"
      ]
     },
     "execution_count": 9,
     "metadata": {},
     "output_type": "execute_result"
    }
   ],
   "source": [
    "s2015.head()"
   ]
  },
  {
   "cell_type": "markdown",
   "metadata": {},
   "source": [
    "<p>The data source included stats required for gambling on different platforms. This was far more data then required for my analyses. Therefore, I built a data frame focused on only the essential columns I wanted to work with.</p>"
   ]
  },
  {
   "cell_type": "code",
   "execution_count": 10,
   "metadata": {},
   "outputs": [],
   "source": [
    "# minimises the data frame to the columns I am working with\n",
    "s2019 = s2019[s2019.columns[:22]]\n",
    "s2018 = s2018[s2018.columns[:22]]\n",
    "s2017 = s2017[s2017.columns[:22]]\n",
    "s2016 = s2016[s2016.columns[:22]]\n",
    "s2015 = s2015[s2015.columns[:22]]\n",
    "\n",
    "allData = allData[allData.columns[:22]]"
   ]
  },
  {
   "cell_type": "markdown",
   "metadata": {},
   "source": [
    "<p>Now that the data is in a workable format and only the essential components are included, let’s print a small sample of the data and begin to explore it. </p>"
   ]
  },
  {
   "cell_type": "code",
   "execution_count": 11,
   "metadata": {},
   "outputs": [
    {
     "data": {
      "text/html": [
       "<div>\n",
       "<style scoped>\n",
       "    .dataframe tbody tr th:only-of-type {\n",
       "        vertical-align: middle;\n",
       "    }\n",
       "\n",
       "    .dataframe tbody tr th {\n",
       "        vertical-align: top;\n",
       "    }\n",
       "\n",
       "    .dataframe thead th {\n",
       "        text-align: right;\n",
       "    }\n",
       "</style>\n",
       "<table border=\"1\" class=\"dataframe\">\n",
       "  <thead>\n",
       "    <tr style=\"text-align: right;\">\n",
       "      <th></th>\n",
       "      <th>Date</th>\n",
       "      <th>HomeTeam</th>\n",
       "      <th>AwayTeam</th>\n",
       "      <th>FTHG</th>\n",
       "      <th>FTAG</th>\n",
       "      <th>FTR</th>\n",
       "      <th>HTHG</th>\n",
       "      <th>HTAG</th>\n",
       "      <th>HTR</th>\n",
       "      <th>Referee</th>\n",
       "      <th>...</th>\n",
       "      <th>HST</th>\n",
       "      <th>AST</th>\n",
       "      <th>HF</th>\n",
       "      <th>AF</th>\n",
       "      <th>HC</th>\n",
       "      <th>AC</th>\n",
       "      <th>HY</th>\n",
       "      <th>AY</th>\n",
       "      <th>HR</th>\n",
       "      <th>AR</th>\n",
       "    </tr>\n",
       "    <tr>\n",
       "      <th>Div</th>\n",
       "      <th></th>\n",
       "      <th></th>\n",
       "      <th></th>\n",
       "      <th></th>\n",
       "      <th></th>\n",
       "      <th></th>\n",
       "      <th></th>\n",
       "      <th></th>\n",
       "      <th></th>\n",
       "      <th></th>\n",
       "      <th></th>\n",
       "      <th></th>\n",
       "      <th></th>\n",
       "      <th></th>\n",
       "      <th></th>\n",
       "      <th></th>\n",
       "      <th></th>\n",
       "      <th></th>\n",
       "      <th></th>\n",
       "      <th></th>\n",
       "      <th></th>\n",
       "    </tr>\n",
       "  </thead>\n",
       "  <tbody>\n",
       "    <tr>\n",
       "      <th>E0</th>\n",
       "      <td>2015/2016</td>\n",
       "      <td>Bournemouth</td>\n",
       "      <td>Aston Villa</td>\n",
       "      <td>0</td>\n",
       "      <td>1</td>\n",
       "      <td>A</td>\n",
       "      <td>0</td>\n",
       "      <td>0</td>\n",
       "      <td>D</td>\n",
       "      <td>M Clattenburg</td>\n",
       "      <td>...</td>\n",
       "      <td>2</td>\n",
       "      <td>3</td>\n",
       "      <td>13</td>\n",
       "      <td>13</td>\n",
       "      <td>6</td>\n",
       "      <td>3</td>\n",
       "      <td>3</td>\n",
       "      <td>4</td>\n",
       "      <td>0</td>\n",
       "      <td>0</td>\n",
       "    </tr>\n",
       "    <tr>\n",
       "      <th>E0</th>\n",
       "      <td>2015/2016</td>\n",
       "      <td>Chelsea</td>\n",
       "      <td>Swansea</td>\n",
       "      <td>2</td>\n",
       "      <td>2</td>\n",
       "      <td>D</td>\n",
       "      <td>2</td>\n",
       "      <td>1</td>\n",
       "      <td>H</td>\n",
       "      <td>M Oliver</td>\n",
       "      <td>...</td>\n",
       "      <td>3</td>\n",
       "      <td>10</td>\n",
       "      <td>15</td>\n",
       "      <td>16</td>\n",
       "      <td>4</td>\n",
       "      <td>8</td>\n",
       "      <td>1</td>\n",
       "      <td>3</td>\n",
       "      <td>1</td>\n",
       "      <td>0</td>\n",
       "    </tr>\n",
       "    <tr>\n",
       "      <th>E0</th>\n",
       "      <td>2015/2016</td>\n",
       "      <td>Everton</td>\n",
       "      <td>Watford</td>\n",
       "      <td>2</td>\n",
       "      <td>2</td>\n",
       "      <td>D</td>\n",
       "      <td>0</td>\n",
       "      <td>1</td>\n",
       "      <td>A</td>\n",
       "      <td>M Jones</td>\n",
       "      <td>...</td>\n",
       "      <td>5</td>\n",
       "      <td>5</td>\n",
       "      <td>7</td>\n",
       "      <td>13</td>\n",
       "      <td>8</td>\n",
       "      <td>2</td>\n",
       "      <td>1</td>\n",
       "      <td>2</td>\n",
       "      <td>0</td>\n",
       "      <td>0</td>\n",
       "    </tr>\n",
       "    <tr>\n",
       "      <th>E0</th>\n",
       "      <td>2015/2016</td>\n",
       "      <td>Leicester</td>\n",
       "      <td>Sunderland</td>\n",
       "      <td>4</td>\n",
       "      <td>2</td>\n",
       "      <td>H</td>\n",
       "      <td>3</td>\n",
       "      <td>0</td>\n",
       "      <td>H</td>\n",
       "      <td>L Mason</td>\n",
       "      <td>...</td>\n",
       "      <td>8</td>\n",
       "      <td>5</td>\n",
       "      <td>13</td>\n",
       "      <td>17</td>\n",
       "      <td>6</td>\n",
       "      <td>3</td>\n",
       "      <td>2</td>\n",
       "      <td>4</td>\n",
       "      <td>0</td>\n",
       "      <td>0</td>\n",
       "    </tr>\n",
       "    <tr>\n",
       "      <th>E0</th>\n",
       "      <td>2015/2016</td>\n",
       "      <td>Man United</td>\n",
       "      <td>Tottenham</td>\n",
       "      <td>1</td>\n",
       "      <td>0</td>\n",
       "      <td>H</td>\n",
       "      <td>1</td>\n",
       "      <td>0</td>\n",
       "      <td>H</td>\n",
       "      <td>J Moss</td>\n",
       "      <td>...</td>\n",
       "      <td>1</td>\n",
       "      <td>4</td>\n",
       "      <td>12</td>\n",
       "      <td>12</td>\n",
       "      <td>1</td>\n",
       "      <td>2</td>\n",
       "      <td>2</td>\n",
       "      <td>3</td>\n",
       "      <td>0</td>\n",
       "      <td>0</td>\n",
       "    </tr>\n",
       "  </tbody>\n",
       "</table>\n",
       "<p>5 rows × 22 columns</p>\n",
       "</div>"
      ],
      "text/plain": [
       "          Date     HomeTeam     AwayTeam  FTHG  FTAG FTR  HTHG  HTAG HTR  \\\n",
       "Div                                                                        \n",
       "E0   2015/2016  Bournemouth  Aston Villa     0     1   A     0     0   D   \n",
       "E0   2015/2016      Chelsea      Swansea     2     2   D     2     1   H   \n",
       "E0   2015/2016      Everton      Watford     2     2   D     0     1   A   \n",
       "E0   2015/2016    Leicester   Sunderland     4     2   H     3     0   H   \n",
       "E0   2015/2016   Man United    Tottenham     1     0   H     1     0   H   \n",
       "\n",
       "           Referee  ...  HST  AST  HF  AF  HC  AC  HY  AY  HR  AR  \n",
       "Div                 ...                                            \n",
       "E0   M Clattenburg  ...    2    3  13  13   6   3   3   4   0   0  \n",
       "E0        M Oliver  ...    3   10  15  16   4   8   1   3   1   0  \n",
       "E0         M Jones  ...    5    5   7  13   8   2   1   2   0   0  \n",
       "E0         L Mason  ...    8    5  13  17   6   3   2   4   0   0  \n",
       "E0          J Moss  ...    1    4  12  12   1   2   2   3   0   0  \n",
       "\n",
       "[5 rows x 22 columns]"
      ]
     },
     "execution_count": 11,
     "metadata": {},
     "output_type": "execute_result"
    }
   ],
   "source": [
    "# a sample of the munged data\n",
    "s2015.head()"
   ]
  },
  {
   "cell_type": "markdown",
   "metadata": {},
   "source": [
    "<p>From the sample section of the data, we can see that the data covers many points of interest that can be used to discover interesting insights. For example, it Includes end of game results (FTR), where an \"A\" indicates an away team win, an \"H\" indicates a home team win and a \"D\" indicates a draw. It also includes the game standings at half time (HTR) with similar indicator variables. The data breaks down goal count for each team, both at half time and full time (ex. Half Time Away Goals \"HTAG\", Half Time Home Goals \"HTHG\"), and among others it includes shots on goal (HST, AST). This data set should be suitable for exploring the premier league."
   ]
  },
  {
   "cell_type": "markdown",
   "metadata": {},
   "source": [
    "## Data Analysis\n",
    "<p>The main question I am going to try and answer is; Are the goals scored in the first half of the game more important than goals scored later in the game? </p>\n",
    "<p>Lets begin by looking at the full time Results (FTR) vs the half time results (HTR). The initial goal was to measure, the ratio of total games, who’s score at the half time point stayed the same in the final half of the game. In other words, the total ratio of games, that had been decided at the half time buzzer. In order to do this properly, we need to first eliminate any games where the final goal total is different then the half time goal total. This was done with a function I wrote that filters the data frame to the games that didn’t change. The function then builds and returns a dict filled in order with the total games in a season, total games with no change, and the ratio. </p>"
   ]
  },
  {
   "cell_type": "code",
   "execution_count": 12,
   "metadata": {
    "scrolled": true
   },
   "outputs": [],
   "source": [
    "# builds a dict containing the total games played, \n",
    "# the total games that didnt change, and the ratio of the two\n",
    "allSe = da.percentageNoChange(allData)\n",
    "se15 = da.percentageNoChange(s2015)\n",
    "se16 = da.percentageNoChange(s2016)\n",
    "se17 = da.percentageNoChange(s2017)\n",
    "se18 = da.percentageNoChange(s2018)\n",
    "se19 = da.percentageNoChange(s2019)"
   ]
  },
  {
   "cell_type": "markdown",
   "metadata": {},
   "source": [
    "<p>In order to graph the output, I then built a list with the ratios from the 5 seasons, as well as the ratio from all the seasons combined.</p>"
   ]
  },
  {
   "cell_type": "code",
   "execution_count": 13,
   "metadata": {},
   "outputs": [],
   "source": [
    "# builds a list of the ratios for the 5 seasons of games decided by half time\n",
    "\n",
    "percentage = []\n",
    "\n",
    "percentage.append(se15['percentage'])\n",
    "percentage.append(se16['percentage'])\n",
    "percentage.append(se17['percentage'])\n",
    "percentage.append(se18['percentage'])\n",
    "percentage.append(se19['percentage'])\n",
    "percentage.append(allSe['percentage'])\n",
    "\n",
    "# numpy array for graphing purposes\n",
    "percentage = np.array(percentage)"
   ]
  },
  {
   "cell_type": "markdown",
   "metadata": {},
   "source": [
    "<p>Now that the data has been formatted we can graph it in a bar chart with the average ratio marked as a red line.</p>"
   ]
  },
  {
   "cell_type": "code",
   "execution_count": 14,
   "metadata": {},
   "outputs": [
    {
     "data": {
      "text/plain": [
       "Text(0, 0.5, 'Percentage')"
      ]
     },
     "execution_count": 14,
     "metadata": {},
     "output_type": "execute_result"
    },
    {
     "data": {
      "image/png": "[encoded data removed]",
      "text/plain": [
       "<Figure size 432x288 with 1 Axes>"
      ]
     },
     "metadata": {
      "needs_background": "light"
     },
     "output_type": "display_data"
    }
   ],
   "source": [
    "# Plots the ratio of games with no score change in the second half of the \n",
    "# game\n",
    "\n",
    "plt.figure()\n",
    "plt.subplot(211)\n",
    "plt.bar('2015/2016',percentage[0], color = 'blue')\n",
    "plt.bar('2016/2017',percentage[1], color = 'blue')\n",
    "plt.bar('2017/2018',percentage[2], color = 'blue')\n",
    "plt.bar('2018/2019',percentage[3], color = 'blue')\n",
    "plt.bar('2019/2020',percentage[4], color = 'blue')\n",
    "plt.axhline(percentage[5], color = 'red')\n",
    "plt.title('Percentage of Games Decided by HalfTime')\n",
    "plt.xlabel('Game Season')\n",
    "plt.ylabel('Percentage')\n"
   ]
  },
  {
   "cell_type": "markdown",
   "metadata": {},
   "source": [
    "<p>We can see from the horizontal red line on the bar chart, that approximately 20% of all games played were decided within the first 45 min of play. </p>\n",
    "<p>This number is significant. However, it doesn’t tell us the outcome of the game (ex. Who won/lost or if the game was a draw?). It also indicates, that approximately 80% of all games were decided in the second half. Lets further explore this idea, by comparing the number of goals scored in the first 45 min, to the number scored in the last 45 min in the 5 seasons. </p>"
   ]
  },
  {
   "cell_type": "code",
   "execution_count": 15,
   "metadata": {},
   "outputs": [],
   "source": [
    "# builds a list of 3 elements goals scored in the first half, goals scored in the second half and all goals scored, \n",
    "\n",
    "se2015 = np.array(da.goalsScored(s2015))\n",
    "se2016 = np.array(da.goalsScored(s2016))\n",
    "se2017 = np.array(da.goalsScored(s2017))\n",
    "se2018 = np.array(da.goalsScored(s2018))\n",
    "se2019 = np.array(da.goalsScored(s2019))"
   ]
  },
  {
   "cell_type": "markdown",
   "metadata": {},
   "source": [
    "<p>We can now plot the graph to see the comparison.</p>"
   ]
  },
  {
   "cell_type": "code",
   "execution_count": 16,
   "metadata": {
    "scrolled": false
   },
   "outputs": [
    {
     "data": {
      "text/plain": [
       "Text(0, 0.5, 'Goals Scored')"
      ]
     },
     "execution_count": 16,
     "metadata": {},
     "output_type": "execute_result"
    },
    {
     "data": {
      "image/png": "[encoded data removed]",
      "text/plain": [
       "<Figure size 2880x1440 with 1 Axes>"
      ]
     },
     "metadata": {
      "needs_background": "light"
     },
     "output_type": "display_data"
    }
   ],
   "source": [
    "# Plots the goals scored in the first half of the game Vs the 2nd half of the\n",
    "# game.\n",
    "\n",
    "plt.figure(figsize=(40,20))\n",
    "plt.subplot(231)\n",
    "plt.bar('2015/2016 Season',se2015[2], color='blue', label=\"2nd Period Goals\")\n",
    "plt.bar('2015/2016 Season',se2015[0], color='red', label=\"Halftime Goals\")\n",
    "plt.bar('2016/2017 Season',se2016[2], color='blue')\n",
    "plt.bar('2016/2017 Season',se2016[0], color='red')\n",
    "plt.bar('2017/2018 Season',se2017[2], color='blue')\n",
    "plt.bar('2017/2018 Season',se2017[0], color='red')\n",
    "plt.bar('2018/2019 Season',se2018[2], color='blue')\n",
    "plt.bar('2018/2019 Season',se2018[0], color='red')\n",
    "plt.bar('2019/2020 Season',se2019[2], color='blue')\n",
    "plt.bar('2019/2020 Season',se2019[0], color='red')\n",
    "plt.title('Goals Scored in Halftime Vs. Goals Scored in 2nd Period')\n",
    "plt.legend()\n",
    "plt.xlabel('Game Season')\n",
    "plt.ylabel('Goals Scored')"
   ]
  },
  {
   "cell_type": "code",
   "execution_count": 17,
   "metadata": {},
   "outputs": [
    {
     "name": "stdout",
     "output_type": "stream",
     "text": [
      "\n",
      "The respective ratio of goals scored in the second half are as follows.\n",
      "\n",
      "Percentage of goals scored in the second half of the 2015/2016 season 55%\n",
      "Percentage of goals scored in the second half of the 2016/2017 season 56%\n",
      "Percentage of goals scored in the second half of the 2017/2018 season 58%\n",
      "Percentage of goals scored in the second half of the 2018/2019 season 55%\n",
      "Percentage of goals scored in the second half of the 2019/2020 season 54%\n"
     ]
    }
   ],
   "source": [
    "# prints the ratio of goals scored in the 2nd half of the game\n",
    "\n",
    "print()\n",
    "print(\"The respective ratio of goals scored in the second half are as follows.\\n\")\n",
    "print('Percentage of goals scored in the second half of the 2015/2016 season '+str(da.percent(se2015))+'%')\n",
    "print('Percentage of goals scored in the second half of the 2016/2017 season '+str(da.percent(se2016))+'%')\n",
    "print('Percentage of goals scored in the second half of the 2017/2018 season '+str(da.percent(se2017))+'%')\n",
    "print('Percentage of goals scored in the second half of the 2018/2019 season '+str(da.percent(se2018))+'%')\n",
    "print('Percentage of goals scored in the second half of the 2019/2020 season '+str(da.percent(se2019))+'%')"
   ]
  },
  {
   "cell_type": "markdown",
   "metadata": {},
   "source": [
    "<p>We can see from the graph and the calculated ratios. That in any given season, just over half of all goals scored, are in the second half of the game. Logically this makes sense, as players get tired and defence men might begin to make mistakes. However, this does not answer the original question of, are goals scored before halftime more important? So, lets explore how many teams that were leading in goals in the first half of the game, ended up winning the match. </p>"
   ]
  },
  {
   "cell_type": "code",
   "execution_count": 18,
   "metadata": {
    "scrolled": false
   },
   "outputs": [],
   "source": [
    "# first we need to explore, which teams were considered winning before halftime\n",
    "# and still winning after halftime\n",
    "\n",
    "# isolates all games where the expected results at half time were == to final results\n",
    "equalResults = s2019[s2019['HTR'] == s2019['FTR']]\n",
    "\n",
    "# eliminates all games that resulted in a draw\n",
    "totalWins = equalResults[equalResults['HTR'] != 'D']\n",
    "\n",
    "#total number of games won\n",
    "total = len(totalWins['HTR'])\n",
    "\n",
    "#calculates the ratio of games won\n",
    "prec = da.percent([0, total, len(s2019)])"
   ]
  },
  {
   "cell_type": "code",
   "execution_count": 24,
   "metadata": {},
   "outputs": [
    {
     "name": "stdout",
     "output_type": "stream",
     "text": [
      "\n",
      "\n",
      "The total number of games that were predicted by the half time results in the 2019 season was: 176\n",
      "\n",
      "Of 380 games in a season, 176 is a little under half of all games played.\n",
      "The ratio of games that were won as predicted, works out to be about 61%\n",
      "This implies that there is some truth to the higher importance of goals scored early.\n",
      "However, this is not a definitive solution to the question. As other factors, such as\n",
      "home team advantage, injury, number of shots on goal and the general skill level of\n",
      "different teams could also drastically affect the outcome.\n"
     ]
    }
   ],
   "source": [
    "# prints the discriptive dialog about insites gained\n",
    "\n",
    "print(\"\\n\\nThe total number of games that were predicted by the half time results in the 2019 season was: \" + str(total))\n",
    "print(\"\\nOf 380 games in a season, 176 is a little under half of all games played.\")\n",
    "print(\"The ratio of games that were won as predicted, works out to be about \"+str(prec)+\"%\")\n",
    "print(\"This implies that there is some truth to the higher importance of goals scored early.\")\n",
    "print(\"However, this is not a definitive solution to the question. As other factors, such as\")\n",
    "print(\"home team advantage, injury, number of shots on goal and the general skill level of\")\n",
    "print(\"different teams could also drastically affect the outcome.\")"
   ]
  },
  {
   "cell_type": "markdown",
   "metadata": {},
   "source": [
    "<p>To investigate the potential of home team advantage, lets look at the number of games won by away team Vs. home team.</p>"
   ]
  },
  {
   "cell_type": "code",
   "execution_count": 20,
   "metadata": {},
   "outputs": [],
   "source": [
    "#season 2019 dataFrame\n",
    "totalWins = s2019[s2019['FTR'] != 'D']\n",
    "# Isolates just the games won by away teams\n",
    "awayT= totalWins[totalWins['FTR'] != 'H']\n",
    "# Isolates just the games won by home teams\n",
    "homeT= totalWins[totalWins['FTR'] != 'A']\n",
    "# counts the number of games for the purpose of graphing\n",
    "awayGames = list(range(0,len(awayT['HTR'])))\n",
    "homeGames = list(range(0,len(homeT['HTR'])))"
   ]
  },
  {
   "cell_type": "code",
   "execution_count": 21,
   "metadata": {
    "scrolled": false
   },
   "outputs": [
    {
     "data": {
      "text/plain": [
       "Text(0, 0.5, 'Goals Scored')"
      ]
     },
     "execution_count": 21,
     "metadata": {},
     "output_type": "execute_result"
    },
    {
     "data": {
      "image/png": "[encoded data removed]",
      "text/plain": [
       "<Figure size 1080x1080 with 1 Axes>"
      ]
     },
     "metadata": {
      "needs_background": "light"
     },
     "output_type": "display_data"
    }
   ],
   "source": [
    "# Plots the total Away team wins Vs. total Home team wins\n",
    "\n",
    "plt.figure(figsize =(15,15))\n",
    "plt.subplot(211)\n",
    "plt.plot(awayGames,awayT['FTAG'],label=\"AwayTeamWins\")\n",
    "plt.plot(homeGames,homeT['FTHG'],label=\"HomeTeamWins\")\n",
    "plt.axvline(len(awayT['HTR'])-1, color = 'green',label=\"115 Games\")\n",
    "plt.axvline(len(homeT['HTR'])-1, color = 'red', label=\"171 Games\")\n",
    "plt.title('Away Team Wins Vs. Home Team Wins')\n",
    "plt.legend()\n",
    "plt.xlabel('Number of HomeTeamWins Vs. AwayTeamWins in a season')\n",
    "plt.ylabel('Goals Scored')"
   ]
  },
  {
   "cell_type": "markdown",
   "metadata": {},
   "source": [
    "<p>The graph indicates that of the 286 games resulting in a win, in the 2019 season. The teams that were playing on home turf won 56 more games then teams that were playing away. This indicates that there may be something significant to the idea of home team advantage. However, it would require looking into more seasons to see if this trend held true for all of them. Also, it would be worth comparing home team advantage, to goals scored in the first half of the game, to see if one of these ideas held more importance then the other.</p>\n",
    "<p>A further question of interest related to the importance of the timing of goals would be; What ratio of the total games resulting in a win were predicted by the results of the first half of the game?</p>"
   ]
  },
  {
   "cell_type": "code",
   "execution_count": 25,
   "metadata": {},
   "outputs": [
    {
     "name": "stdout",
     "output_type": "stream",
     "text": [
      "\n",
      "Of the 286 wins 176 were teams that went into the second period with a goal advantage.\n",
      "This is roughly 61% of all wins in the 2019 season.\n"
     ]
    }
   ],
   "source": [
    "# calculates the ratio of games that were predicted by \n",
    "# half time results out of total games that ended in a win\n",
    "prec = da.percent([0,176,286])\n",
    "print(\"\\nOf the 286 wins 176 were teams that went into the second period with a goal advantage.\")\n",
    "print(\"This is roughly \"+str(prec)+\"% of all wins in the 2019 season.\")"
   ]
  },
  {
   "cell_type": "markdown",
   "metadata": {},
   "source": [
    "<p>The ratio of total wins, to teams with half time adavantage. that later went on to win match, Is roughly 61%. While this by itself again, doesn’t definitively prove that goals before halftime are more important, it does lend credibility to the idea.</p>"
   ]
  },
  {
   "cell_type": "markdown",
   "metadata": {},
   "source": [
    "## Conclusion\n",
    "<p>\n",
    "Through the process of investigating the idea, that the timing of certain goals held more value. We were able to establish a certain amount of credibility in that way of thinking. However, we were not able to definitively prove, that the goals before half time had more significance, other then raising the odds of winning overall. Take for instance the ratio of 61% of all wins were from teams, that were ahead in goals at half time. This neglects to account for the distance between goal amounts, which would be an indicator of the difficulty of catching up. It also ignores the value that more shots on goal, raises the odds of getting more goals. Which could be an indicator of an unevenly matched team. Finally, the study didn’t take into account the drastic effects, that an unexpected injury of a player can have on the overall game.\n",
    "</p>"
   ]
  },
  {
   "cell_type": "markdown",
   "metadata": {},
   "source": [
    "## Future Work\n",
    "<p>\n",
    "To extend this study in the future, accounting for a larger spread of data, would allow establishing the size of the average across all seasons. Indicating the true value of early goals as a predictor for the success of the winning team. Furthermore, including player stats (ex. shots on goal, fouls, playtime) and comparing them to each other, could help establish whether the skill of a team is a better indicator of success.\n",
    "</p>"
   ]
  },
  {
   "cell_type": "markdown",
   "metadata": {},
   "source": [
    "## References\n",
    "<p>\n",
    "    <li><em>wikipedia</em> \"Premier League\" <a href=\"https://en.wikipedia.org/wiki/Premier_League\">https://en.wikipedia.org/wiki/Premier_League</a> Accessed: December 2020</li>\n",
    "    <li><em>Real Python:</em> \"Beautiful Soup: Build a Web Scraper With Python\" <a href=\"https://realpython.com/beautiful-soup-web-scraper-python/#part-1-inspect-your-data-source\">https://realpython.com/beautiful-soup-web-scraper-python/#part-1-inspect-your-data-source</a> Accessed: December 2020</li>\n",
    "    <li><em>Beautiful Soup Documentation</em> <a href=\"https://www.crummy.com/software/BeautifulSoup/bs4/doc/\">https://www.crummy.com/software/BeautifulSoup/bs4/doc/</a> Accessed: December 2020</li>\n",
    "    <li><em>Football - Data:</em> Premier League Data Set - <a href=\"https://www.football-data.co.uk/englandm.php\">https://www.football-data.co.uk/englandm.php</a> Accessed: December 2020</li>\n",
    "    <li><em>matplotlib documentation:</em> - <a href=\"https://matplotlib.org/contents.html\">https://matplotlib.org/contents.html</a> Accessed: December 2020</li>\n",
    "    <li><em>pandas Documentation:</em> - <a href=\"https://pandas.pydata.org/docs/user_guide/index.html\">https://pandas.pydata.org/docs/user_guide/index.html</a> Accessed: December 2020</li>\n",
    "</p>\n"
   ]
  }
 ],
 "metadata": {
  "kernelspec": {
   "display_name": "Python 3",
   "language": "python",
   "name": "python3"
  },
  "language_info": {
   "codemirror_mode": {
    "name": "ipython",
    "version": 3
   },
   "file_extension": ".py",
   "mimetype": "text/x-python",
   "name": "python",
   "nbconvert_exporter": "python",
   "pygments_lexer": "ipython3",
   "version": "3.8.3"
  }
 },
 "nbformat": 4,
 "nbformat_minor": 4
}
